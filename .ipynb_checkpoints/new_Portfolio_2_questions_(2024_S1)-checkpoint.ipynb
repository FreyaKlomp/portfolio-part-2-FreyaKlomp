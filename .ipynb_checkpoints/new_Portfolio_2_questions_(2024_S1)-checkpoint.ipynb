{
 "cells": [
  {
   "cell_type": "markdown",
   "id": "Z88FfJc9lA_T",
   "metadata": {
    "id": "Z88FfJc9lA_T"
   },
   "source": [
    "## Analysis of an E-commerce Dataset Part 2"
   ]
  },
  {
   "cell_type": "markdown",
   "id": "hoq0NwA9lA_V",
   "metadata": {
    "id": "hoq0NwA9lA_V"
   },
   "source": [
    "The goal of the second analysis task is to train linear regression models to predict users' ratings towards items. This involves a standard Data Science workflow: exploring data, building models, making predictions, and evaluating results. In this task, we will explore the impacts of feature selections and different sizes of training/testing data on the model performance. We will use another cleaned combined e-commerce sub-dataset that **is different from** the one in “Analysis of an E-commerce Dataset” task 1."
   ]
  },
  {
   "cell_type": "markdown",
   "id": "f9fd3NU_lA_W",
   "metadata": {
    "id": "f9fd3NU_lA_W"
   },
   "source": [
    "### Import Cleaned E-commerce Dataset\n",
    "The csv file named 'cleaned_ecommerce_dataset.csv' is provided. You may need to use the Pandas method, i.e., `read_csv`, for reading it. After that, please print out its total length."
   ]
  },
  {
   "cell_type": "code",
   "execution_count": 105,
   "id": "PJrb2gtAlA_W",
   "metadata": {
    "id": "PJrb2gtAlA_W"
   },
   "outputs": [],
   "source": [
    "import pandas as pd\n",
    "import seaborn as sns\n",
    "import numpy as np\n",
    "import matplotlib.pylab as plt"
   ]
  },
  {
   "cell_type": "code",
   "execution_count": 108,
   "id": "27af9dc8-e2c1-49d8-8400-38df15528681",
   "metadata": {},
   "outputs": [],
   "source": [
    "from sklearn.model_selection import train_test_split\n",
    "from sklearn.preprocessing import OrdinalEncoder\n",
    "from sklearn import linear_model\n",
    "from sklearn.metrics import r2_score"
   ]
  },
  {
   "cell_type": "code",
   "execution_count": 109,
   "id": "e67ec371-600c-4362-9399-537d9a06be00",
   "metadata": {},
   "outputs": [],
   "source": [
    "df = pd.read_csv('cleaned_ecommerce_dataset.csv')"
   ]
  },
  {
   "cell_type": "code",
   "execution_count": 110,
   "id": "6d1df7d3-5675-41bd-98a7-db7efce2e0cf",
   "metadata": {},
   "outputs": [
    {
     "data": {
      "text/plain": [
       "2685"
      ]
     },
     "execution_count": 110,
     "metadata": {},
     "output_type": "execute_result"
    }
   ],
   "source": [
    "df_length = len(df)\n",
    "df_length"
   ]
  },
  {
   "cell_type": "markdown",
   "id": "aqbuU6rglA_X",
   "metadata": {
    "id": "aqbuU6rglA_X"
   },
   "source": [
    "### Explore the Dataset\n",
    "\n",
    "* Use the methods, i.e., `head()` and `info()`, to have a rough picture about the data, e.g., how many columns, and the data types of each column.\n",
    "* As our goal is to predict ratings given other columns, please get the correlations between helpfulness/gender/category/review and rating by using the `corr()` method.\n",
    "\n",
    "  Hints: To get the correlations between different features, you may need to first convert the categorical features (i.e., gender, category and review) into numerial values. For doing this, you may need to import `OrdinalEncoder` from `sklearn.preprocessing` (refer to the useful exmaples [here](https://pbpython.com/categorical-encoding.html))\n",
    "* Please provide ___necessary explanations/analysis___ on the correlations, and figure out which are the ___most___ and ___least___ corrleated features regarding rating. Try to ___discuss___ how the correlation will affect the final prediction results, if we use these features to train a regression model for rating prediction. In what follows, we will conduct experiments to verify your hypothesis."
   ]
  },
  {
   "cell_type": "code",
   "execution_count": 111,
   "id": "5769bfba-cec0-4db4-98e1-92fdbc32e10d",
   "metadata": {},
   "outputs": [
    {
     "data": {
      "text/html": [
       "<div>\n",
       "<style scoped>\n",
       "    .dataframe tbody tr th:only-of-type {\n",
       "        vertical-align: middle;\n",
       "    }\n",
       "\n",
       "    .dataframe tbody tr th {\n",
       "        vertical-align: top;\n",
       "    }\n",
       "\n",
       "    .dataframe thead th {\n",
       "        text-align: right;\n",
       "    }\n",
       "</style>\n",
       "<table border=\"1\" class=\"dataframe\">\n",
       "  <thead>\n",
       "    <tr style=\"text-align: right;\">\n",
       "      <th></th>\n",
       "      <th>userId</th>\n",
       "      <th>timestamp</th>\n",
       "      <th>review</th>\n",
       "      <th>item</th>\n",
       "      <th>rating</th>\n",
       "      <th>helpfulness</th>\n",
       "      <th>gender</th>\n",
       "      <th>category</th>\n",
       "      <th>item_id</th>\n",
       "      <th>item_price</th>\n",
       "      <th>user_city</th>\n",
       "    </tr>\n",
       "  </thead>\n",
       "  <tbody>\n",
       "    <tr>\n",
       "      <th>0</th>\n",
       "      <td>4081</td>\n",
       "      <td>71900</td>\n",
       "      <td>Not always McCrap</td>\n",
       "      <td>McDonald's</td>\n",
       "      <td>4.0</td>\n",
       "      <td>3.0</td>\n",
       "      <td>M</td>\n",
       "      <td>Restaurants &amp; Gourmet</td>\n",
       "      <td>41</td>\n",
       "      <td>30.74</td>\n",
       "      <td>4</td>\n",
       "    </tr>\n",
       "    <tr>\n",
       "      <th>1</th>\n",
       "      <td>4081</td>\n",
       "      <td>72000</td>\n",
       "      <td>I dropped the chalupa even before he told me to</td>\n",
       "      <td>Taco Bell</td>\n",
       "      <td>1.0</td>\n",
       "      <td>4.0</td>\n",
       "      <td>M</td>\n",
       "      <td>Restaurants &amp; Gourmet</td>\n",
       "      <td>74</td>\n",
       "      <td>108.30</td>\n",
       "      <td>4</td>\n",
       "    </tr>\n",
       "    <tr>\n",
       "      <th>2</th>\n",
       "      <td>4081</td>\n",
       "      <td>72000</td>\n",
       "      <td>The Wonderful World of Wendy</td>\n",
       "      <td>Wendy's</td>\n",
       "      <td>5.0</td>\n",
       "      <td>4.0</td>\n",
       "      <td>M</td>\n",
       "      <td>Restaurants &amp; Gourmet</td>\n",
       "      <td>84</td>\n",
       "      <td>69.00</td>\n",
       "      <td>4</td>\n",
       "    </tr>\n",
       "    <tr>\n",
       "      <th>3</th>\n",
       "      <td>4081</td>\n",
       "      <td>100399</td>\n",
       "      <td>They actually did it</td>\n",
       "      <td>South Park: Bigger, Longer &amp; Uncut</td>\n",
       "      <td>5.0</td>\n",
       "      <td>3.0</td>\n",
       "      <td>M</td>\n",
       "      <td>Movies</td>\n",
       "      <td>68</td>\n",
       "      <td>143.11</td>\n",
       "      <td>4</td>\n",
       "    </tr>\n",
       "    <tr>\n",
       "      <th>4</th>\n",
       "      <td>4081</td>\n",
       "      <td>100399</td>\n",
       "      <td>Hey! Gimme some pie!</td>\n",
       "      <td>American Pie</td>\n",
       "      <td>3.0</td>\n",
       "      <td>3.0</td>\n",
       "      <td>M</td>\n",
       "      <td>Movies</td>\n",
       "      <td>6</td>\n",
       "      <td>117.89</td>\n",
       "      <td>4</td>\n",
       "    </tr>\n",
       "    <tr>\n",
       "      <th>5</th>\n",
       "      <td>4081</td>\n",
       "      <td>100399</td>\n",
       "      <td>Good for sci-fi</td>\n",
       "      <td>Matrix</td>\n",
       "      <td>3.0</td>\n",
       "      <td>3.0</td>\n",
       "      <td>M</td>\n",
       "      <td>Movies</td>\n",
       "      <td>40</td>\n",
       "      <td>24.51</td>\n",
       "      <td>4</td>\n",
       "    </tr>\n",
       "    <tr>\n",
       "      <th>6</th>\n",
       "      <td>4081</td>\n",
       "      <td>100399</td>\n",
       "      <td>Scary? you bet!</td>\n",
       "      <td>Blair Witch Project</td>\n",
       "      <td>4.0</td>\n",
       "      <td>3.0</td>\n",
       "      <td>M</td>\n",
       "      <td>Movies</td>\n",
       "      <td>12</td>\n",
       "      <td>44.00</td>\n",
       "      <td>4</td>\n",
       "    </tr>\n",
       "    <tr>\n",
       "      <th>7</th>\n",
       "      <td>4081</td>\n",
       "      <td>101899</td>\n",
       "      <td>Fox - the 4th basic channel</td>\n",
       "      <td>FOX</td>\n",
       "      <td>4.0</td>\n",
       "      <td>4.0</td>\n",
       "      <td>M</td>\n",
       "      <td>Media</td>\n",
       "      <td>25</td>\n",
       "      <td>80.00</td>\n",
       "      <td>4</td>\n",
       "    </tr>\n",
       "    <tr>\n",
       "      <th>8</th>\n",
       "      <td>4081</td>\n",
       "      <td>112099</td>\n",
       "      <td>Amen!</td>\n",
       "      <td>Dogma</td>\n",
       "      <td>4.0</td>\n",
       "      <td>3.0</td>\n",
       "      <td>M</td>\n",
       "      <td>Movies</td>\n",
       "      <td>22</td>\n",
       "      <td>87.59</td>\n",
       "      <td>4</td>\n",
       "    </tr>\n",
       "    <tr>\n",
       "      <th>9</th>\n",
       "      <td>4081</td>\n",
       "      <td>122899</td>\n",
       "      <td>mama mia!</td>\n",
       "      <td>Olive Garden</td>\n",
       "      <td>4.0</td>\n",
       "      <td>3.0</td>\n",
       "      <td>M</td>\n",
       "      <td>Restaurants &amp; Gourmet</td>\n",
       "      <td>49</td>\n",
       "      <td>32.00</td>\n",
       "      <td>4</td>\n",
       "    </tr>\n",
       "  </tbody>\n",
       "</table>\n",
       "</div>"
      ],
      "text/plain": [
       "   userId  timestamp                                           review  \\\n",
       "0    4081      71900                                Not always McCrap   \n",
       "1    4081      72000  I dropped the chalupa even before he told me to   \n",
       "2    4081      72000                     The Wonderful World of Wendy   \n",
       "3    4081     100399                             They actually did it   \n",
       "4    4081     100399                             Hey! Gimme some pie!   \n",
       "5    4081     100399                                  Good for sci-fi   \n",
       "6    4081     100399                                  Scary? you bet!   \n",
       "7    4081     101899                      Fox - the 4th basic channel   \n",
       "8    4081     112099                                            Amen!   \n",
       "9    4081     122899                                        mama mia!   \n",
       "\n",
       "                                 item  rating  helpfulness gender  \\\n",
       "0                          McDonald's     4.0          3.0      M   \n",
       "1                           Taco Bell     1.0          4.0      M   \n",
       "2                             Wendy's     5.0          4.0      M   \n",
       "3  South Park: Bigger, Longer & Uncut     5.0          3.0      M   \n",
       "4                        American Pie     3.0          3.0      M   \n",
       "5                              Matrix     3.0          3.0      M   \n",
       "6                 Blair Witch Project     4.0          3.0      M   \n",
       "7                                 FOX     4.0          4.0      M   \n",
       "8                               Dogma     4.0          3.0      M   \n",
       "9                        Olive Garden     4.0          3.0      M   \n",
       "\n",
       "                category  item_id  item_price  user_city  \n",
       "0  Restaurants & Gourmet       41       30.74          4  \n",
       "1  Restaurants & Gourmet       74      108.30          4  \n",
       "2  Restaurants & Gourmet       84       69.00          4  \n",
       "3                 Movies       68      143.11          4  \n",
       "4                 Movies        6      117.89          4  \n",
       "5                 Movies       40       24.51          4  \n",
       "6                 Movies       12       44.00          4  \n",
       "7                  Media       25       80.00          4  \n",
       "8                 Movies       22       87.59          4  \n",
       "9  Restaurants & Gourmet       49       32.00          4  "
      ]
     },
     "execution_count": 111,
     "metadata": {},
     "output_type": "execute_result"
    }
   ],
   "source": [
    "df.head(10)"
   ]
  },
  {
   "cell_type": "code",
   "execution_count": 112,
   "id": "W3PImHiElA_X",
   "metadata": {
    "id": "W3PImHiElA_X"
   },
   "outputs": [
    {
     "data": {
      "text/plain": [
       "userId           int64\n",
       "timestamp        int64\n",
       "review          object\n",
       "item            object\n",
       "rating         float64\n",
       "helpfulness    float64\n",
       "gender          object\n",
       "category        object\n",
       "item_id          int64\n",
       "item_price     float64\n",
       "user_city        int64\n",
       "dtype: object"
      ]
     },
     "execution_count": 112,
     "metadata": {},
     "output_type": "execute_result"
    }
   ],
   "source": [
    "df.dtypes"
   ]
  },
  {
   "cell_type": "code",
   "execution_count": 113,
   "id": "45514368-5bb4-4b3f-a87d-ac84dccc0e2f",
   "metadata": {},
   "outputs": [],
   "source": [
    "ord_enc = OrdinalEncoder()\n",
    "df[\"gender_code\"] = ord_enc.fit_transform(df[[\"gender\"]])\n",
    "df[\"category_code\"] = ord_enc.fit_transform(df[[\"category\"]])\n",
    "df[\"review_code\"] = ord_enc.fit_transform(df[[\"review\"]])"
   ]
  },
  {
   "cell_type": "code",
   "execution_count": 114,
   "id": "364e5c6f-4c27-4b51-b5a6-d976d5165cdb",
   "metadata": {},
   "outputs": [
    {
     "name": "stdout",
     "output_type": "stream",
     "text": [
      "Correlation Between All Relevant Categories\n",
      "               helpfulness  gender_code  category_code  review_code    rating\n",
      "helpfulness       1.000000     0.075947      -0.013408    -0.028259 -0.007523\n",
      "gender_code       0.075947     1.000000       0.022549    -0.037884 -0.034337\n",
      "category_code    -0.013408     0.022549       1.000000     0.001970 -0.163158\n",
      "review_code      -0.028259    -0.037884       0.001970     1.000000 -0.036118\n",
      "rating           -0.007523    -0.034337      -0.163158    -0.036118  1.000000\n"
     ]
    }
   ],
   "source": [
    "correlations = df[['helpfulness', 'gender_code', 'category_code', 'review_code', 'rating']].corr()\n",
    "print(\"Correlation Between All Relevant Categories\")\n",
    "print(correlations)"
   ]
  },
  {
   "cell_type": "code",
   "execution_count": 115,
   "id": "77eaed55-ba4e-4da8-b671-62c9372a0291",
   "metadata": {},
   "outputs": [
    {
     "name": "stdout",
     "output_type": "stream",
     "text": [
      "Correlation Between Helpfulness and Rating\n"
     ]
    },
    {
     "data": {
      "text/plain": [
       "-0.007523337726844536"
      ]
     },
     "execution_count": 115,
     "metadata": {},
     "output_type": "execute_result"
    }
   ],
   "source": [
    "print(\"Correlation Between Helpfulness and Rating\")\n",
    "df['helpfulness'].corr(df['rating'])"
   ]
  },
  {
   "cell_type": "code",
   "execution_count": 116,
   "id": "1a8537ca-8b6e-4255-b6e9-855ddae2d1c2",
   "metadata": {},
   "outputs": [
    {
     "name": "stdout",
     "output_type": "stream",
     "text": [
      "Correlation Between Review and Rating\n"
     ]
    },
    {
     "data": {
      "text/plain": [
       "-0.03611838655212237"
      ]
     },
     "execution_count": 116,
     "metadata": {},
     "output_type": "execute_result"
    }
   ],
   "source": [
    "print(\"Correlation Between Review and Rating\")\n",
    "df['review_code'].corr(df['rating'])"
   ]
  },
  {
   "cell_type": "code",
   "execution_count": 117,
   "id": "f7c909b5-3ec3-4178-b165-80f834e7b3c1",
   "metadata": {},
   "outputs": [
    {
     "name": "stdout",
     "output_type": "stream",
     "text": [
      "Correlation Between Category and Rating\n"
     ]
    },
    {
     "data": {
      "text/plain": [
       "-0.16315765340915647"
      ]
     },
     "execution_count": 117,
     "metadata": {},
     "output_type": "execute_result"
    }
   ],
   "source": [
    "print(\"Correlation Between Category and Rating\")\n",
    "df['category_code'].corr(df['rating'])"
   ]
  },
  {
   "cell_type": "code",
   "execution_count": 118,
   "id": "d919d114-e796-4a79-a092-2ebf71f5557b",
   "metadata": {},
   "outputs": [
    {
     "name": "stdout",
     "output_type": "stream",
     "text": [
      "Correlation Between Gender and Rating\n"
     ]
    },
    {
     "data": {
      "text/plain": [
       "-0.03433661424208274"
      ]
     },
     "execution_count": 118,
     "metadata": {},
     "output_type": "execute_result"
    }
   ],
   "source": [
    "print(\"Correlation Between Gender and Rating\")\n",
    "df['gender_code'].corr(df['rating'])"
   ]
  },
  {
   "cell_type": "markdown",
   "id": "4myP5igslA_Y",
   "metadata": {
    "id": "4myP5igslA_Y"
   },
   "source": [
    "### Split Training and Testing Data\n",
    "* Machine learning models are trained to help make predictions for the future. Normally, we need to randomly split the dataset into training and testing sets, where we use the training set to train the model, and then leverage the well-trained model to make predictions on the testing set.\n",
    "* To further investigate whether the size of the training/testing data affects the model performance, please random split the data into training and testing sets with different sizes:\n",
    "    * Case 1: training data containing 10% of the entire data;\n",
    "    * Case 2: training data containing 90% of the entire data.\n",
    "* Print the shape of training and testing sets in the two cases."
   ]
  },
  {
   "cell_type": "code",
   "execution_count": 119,
   "id": "JIDMig9blA_Y",
   "metadata": {
    "id": "JIDMig9blA_Y"
   },
   "outputs": [
    {
     "name": "stdout",
     "output_type": "stream",
     "text": [
      "Case 1 Shape\n",
      "Shape of train_1: (268, 14)\n",
      "Shape of test_1: (2417, 14)\n",
      "Case 2 Shape\n",
      "Shape of train_2: (2416, 14)\n",
      "Shape of test_2: (269, 14)\n"
     ]
    }
   ],
   "source": [
    "train_1, test_1 = train_test_split(df, test_size=0.9, random_state = 90)\n",
    "train_2, test_2 = train_test_split(df, test_size=0.1, random_state = 132)\n",
    "print(\"Case 1 Shape\")\n",
    "print(\"Shape of train_1:\", train_1.shape)\n",
    "print(\"Shape of test_1:\", test_1.shape)\n",
    "print(\"Case 2 Shape\")\n",
    "print(\"Shape of train_2:\", train_2.shape)\n",
    "print(\"Shape of test_2:\", test_2.shape)"
   ]
  },
  {
   "cell_type": "markdown",
   "id": "DjSsgT0BlA_Y",
   "metadata": {
    "id": "DjSsgT0BlA_Y"
   },
   "source": [
    "### Train Linear Regression Models with Feature Selection under Cases 1 & 2\n",
    "* When training a machine learning model for prediction, we may need to select the most important/correlated input features for more accurate results.\n",
    "* To investigate whether feature selection affects the model performance, please select two most correlated features and two least correlated features from helpfulness/gender/category/review regarding rating, respectively.\n",
    "* Train four linear regression models by following the conditions:\n",
    "    - (model-a) using the training/testing data in case 1 with two most correlated input features\n",
    "    - (model-b) using the training/testing data in case 1 with two least correlated input features\n",
    "    - (model-c) using the training/testing data in case 2 with two most correlated input features\n",
    "    - (model-d) using the training/testing data in case 2 with two least correlated input features\n",
    "* By doing this, we can verify the impacts of the size of traing/testing data on the model performance via comparing model-a and model-c (or model-b and model-d); meanwhile the impacts of feature selection can be validated via comparing model-a and model-b (or model-c and model-d).    "
   ]
  },
  {
   "cell_type": "code",
   "execution_count": 121,
   "id": "DASzPUATlA_Z",
   "metadata": {
    "id": "DASzPUATlA_Z"
   },
   "outputs": [],
   "source": [
    "#Category and Review Are The Most Correlated\n",
    "#Helpfulness and Gender Are The Least Correlated"
   ]
  },
  {
   "cell_type": "code",
   "execution_count": 122,
   "id": "48a04354-3558-47c6-994d-f6ed117b42df",
   "metadata": {},
   "outputs": [
    {
     "name": "stdout",
     "output_type": "stream",
     "text": [
      "y = x * [-6.48082424e-03 -9.99934682e-05] + 3.8125955908672813\n"
     ]
    }
   ],
   "source": [
    "model_a = linear_model.LinearRegression()\n",
    "X_train_hc1 = train_1[['category_code', 'review_code']]\n",
    "y_train_h1 = train_1['rating']\n",
    "X_test_hc1 = test_1[['category_code', 'review_code']]\n",
    "y_test_h1 = test_1['rating']\n",
    "model_a.fit(X_train_hc1, y_train_h1)\n",
    "print(\"y = x *\", model_a.coef_, \"+\", model_a.intercept_)"
   ]
  },
  {
   "cell_type": "code",
   "execution_count": 123,
   "id": "8c833ec1-573e-43b0-8703-3e2c197868d2",
   "metadata": {},
   "outputs": [
    {
     "name": "stdout",
     "output_type": "stream",
     "text": [
      "y = x * [-6.48082424e-03 -9.99934682e-05] + 3.8125955908672813\n"
     ]
    }
   ],
   "source": [
    "model_b = linear_model.LinearRegression()\n",
    "X_train_lc1 = train_1[['category_code', 'review_code']]\n",
    "y_train_l1 = train_1['rating']\n",
    "X_test_lc1 = test_1[['category_code', 'review_code']]\n",
    "y_test_l1 = test_1['rating']\n",
    "model_b.fit(X_train_lc1, y_train_l1)\n",
    "print(\"y = x *\", model_b.coef_, \"+\", model_b.intercept_)"
   ]
  },
  {
   "cell_type": "code",
   "execution_count": 124,
   "id": "d7bca988-7801-41b9-8783-35e694731dbe",
   "metadata": {},
   "outputs": [
    {
     "name": "stdout",
     "output_type": "stream",
     "text": [
      "y = x * [-1.20373984e-01 -6.44792934e-05] + 4.391987220594955\n"
     ]
    }
   ],
   "source": [
    "model_c = linear_model.LinearRegression()\n",
    "X_train_hc2 = train_2[['category_code', 'review_code']]\n",
    "y_train_h2 = train_2['rating']\n",
    "X_test_hc2 = test_2[['category_code', 'review_code']]\n",
    "y_test_h2 = test_2['rating']\n",
    "model_c.fit(X_train_hc2, y_train_h2)\n",
    "print(\"y = x *\", model_c.coef_, \"+\", model_c.intercept_)"
   ]
  },
  {
   "cell_type": "code",
   "execution_count": 125,
   "id": "e40d4cb3-f748-4b30-9117-e78e67dd70c5",
   "metadata": {},
   "outputs": [
    {
     "name": "stdout",
     "output_type": "stream",
     "text": [
      "y = x * [-0.07423496 -0.04762497] + 3.9293624838719357\n"
     ]
    }
   ],
   "source": [
    "model_d = linear_model.LinearRegression()\n",
    "X_train_lc2 = train_2[['gender_code', 'helpfulness']]\n",
    "y_train_l2 = train_2['rating']\n",
    "X_test_lc2 = test_2[['gender_code', 'helpfulness']]\n",
    "y_test_l2 = test_2['rating']\n",
    "model_d.fit(X_train_lc2, y_train_l2)\n",
    "print(\"y = x *\", model_d.coef_, \"+\", model_d.intercept_)"
   ]
  },
  {
   "cell_type": "markdown",
   "id": "KATSn7hYlA_Z",
   "metadata": {
    "id": "KATSn7hYlA_Z"
   },
   "source": [
    "### Evaluate Models\n",
    "* Evaluate the performance of the four models with two metrics, including MSE and Root MSE\n",
    "* Print the results of the four models regarding the two metrics"
   ]
  },
  {
   "cell_type": "code",
   "execution_count": 126,
   "id": "4fU8GPS9lA_Z",
   "metadata": {
    "id": "4fU8GPS9lA_Z"
   },
   "outputs": [
    {
     "name": "stdout",
     "output_type": "stream",
     "text": [
      "MSE: 1.8091807748086304\n",
      "Root MSE 1.3450579076042155\n"
     ]
    }
   ],
   "source": [
    "prediction_a = model_a.predict(X_test_hc1)\n",
    "mse_a = ((np.array(y_test_h1)-prediction_a)**2).sum()/len(y_test_h1)\n",
    "print(\"MSE:\", mse_a)\n",
    "print(\"Root MSE\", np.sqrt(mse_a))"
   ]
  },
  {
   "cell_type": "code",
   "execution_count": 127,
   "id": "bc59f84b-1015-411b-98de-ced98c89f24d",
   "metadata": {},
   "outputs": [
    {
     "name": "stdout",
     "output_type": "stream",
     "text": [
      "MSE: 1.8091807748086304\n",
      "Root MSE 1.3450579076042155\n"
     ]
    }
   ],
   "source": [
    "prediction_b = model_b.predict(X_test_lc1)\n",
    "mse_b = ((np.array(y_test_l1)-prediction_b)**2).sum()/len(y_test_l1)\n",
    "print(\"MSE:\", mse_b)\n",
    "print(\"Root MSE\", np.sqrt(mse_b))"
   ]
  },
  {
   "cell_type": "code",
   "execution_count": 128,
   "id": "364c31d7-fdad-4000-b9e8-c4a204bb9ca1",
   "metadata": {},
   "outputs": [
    {
     "name": "stdout",
     "output_type": "stream",
     "text": [
      "MSE: 1.8485087436859204\n",
      "Root MSE 1.3595987436320764\n"
     ]
    }
   ],
   "source": [
    "prediction_c = model_c.predict(X_test_hc2)\n",
    "mse_c = ((np.array(y_test_h2)-prediction_c)**2).sum()/len(y_test_h2)\n",
    "print(\"MSE:\", mse_c)\n",
    "print(\"Root MSE\", np.sqrt(mse_c))"
   ]
  },
  {
   "cell_type": "code",
   "execution_count": 129,
   "id": "2b39364e-4817-42e9-b09f-0c70e4d6c973",
   "metadata": {},
   "outputs": [
    {
     "name": "stdout",
     "output_type": "stream",
     "text": [
      "MSE: 1.9206766969648728\n",
      "Root MSE 1.3858848065278992\n"
     ]
    }
   ],
   "source": [
    "prediction_d = model_d.predict(X_test_lc2)\n",
    "mse_d = ((np.array(y_test_l2)-prediction_d)**2).sum()/len(y_test_l2)\n",
    "print(\"MSE:\", mse_d)\n",
    "print(\"Root MSE\", np.sqrt(mse_d))"
   ]
  },
  {
   "cell_type": "markdown",
   "id": "Y9jx-eY6lA_a",
   "metadata": {
    "id": "Y9jx-eY6lA_a"
   },
   "source": [
    "### Visualize, Compare and Analyze the Results\n",
    "* Visulize the results, and perform ___insightful analysis___ on the obtained results. For better visualization, you may need to carefully set the scale for the y-axis.\n",
    "* Normally, the model trained with most correlated features and more training data will get better results. Do you obtain the similar observations? If not, please ___explain the possible reasons___."
   ]
  },
  {
   "cell_type": "code",
   "execution_count": 130,
   "id": "7b5653b9-37fe-4ced-b9a5-3925c874a8d8",
   "metadata": {},
   "outputs": [
    {
     "data": {
      "text/plain": [
       "(1.7791807748086303, 1.9406766969648728)"
      ]
     },
     "execution_count": 130,
     "metadata": {},
     "output_type": "execute_result"
    },
    {
     "data": {
      "image/png": "[encoded data removed]",
      "text/plain": [
       "<Figure size 1000x600 with 1 Axes>"
      ]
     },
     "metadata": {},
     "output_type": "display_data"
    }
   ],
   "source": [
    "models = ['model_a', 'model_b', 'model_c', 'model_d']\n",
    "mse_values = [mse_a, mse_b, mse_c, mse_d]\n",
    "\n",
    "plt.figure(figsize=(10, 6))\n",
    "plt.bar(models, mse_values, color='orange')\n",
    "\n",
    "plt.xlabel('Models')\n",
    "plt.ylabel('Mean Squared Error (MSE)')\n",
    "plt.title('Mean Squared Error (MSE) Comparison')\n",
    "\n",
    "plt.ylim(min(mse_values) - 0.03, max(mse_values) + 0.02)"
   ]
  },
  {
   "cell_type": "markdown",
   "id": "19a1c087-670f-4222-b2e9-7d399ef8312e",
   "metadata": {},
   "source": [
    "### Findings From MSE Comparison:\n",
    "* Regarding the provided statement \"Normally, the model trained with most correlated features and more training data will get better results\", in the case of these models' MSE results, this statement is true in some regards and incorrect in others.\n",
    "* The models that utilized features with the highest correlation (model_a and model_c) both surpassed the performance of their respective counterparts in the same scenario (model_b and model_d).\n",
    "* However the above results show that having more training data (10% versus 90%) will not nessecarilly result in better results, since the best performing model (a) utilised training data from only 90% of the total dataset. Despite this it still did significantly better than models c and d, despite those models utilising training data from 90% of the total dataset.\n",
    "* Factors influencing this include overfitting and the use of the random_stat variable in the trian test split.\n"
   ]
  },
  {
   "cell_type": "code",
   "execution_count": 132,
   "id": "8607e3bf-9dc0-4a3c-b103-63ec259be425",
   "metadata": {},
   "outputs": [
    {
     "data": {
      "text/plain": [
       "(1.3150579076042155, 1.4058848065278993)"
      ]
     },
     "execution_count": 132,
     "metadata": {},
     "output_type": "execute_result"
    },
    {
     "data": {
      "image/png": "[encoded data removed]",
      "text/plain": [
       "<Figure size 1000x600 with 1 Axes>"
      ]
     },
     "metadata": {},
     "output_type": "display_data"
    }
   ],
   "source": [
    "root_mse_values = [np.sqrt(mse_a), np.sqrt(mse_b), np.sqrt(mse_c), np.sqrt(mse_d)]\n",
    "plt.figure(figsize=(10, 6))\n",
    "plt.bar(models, root_mse_values, color='blue')\n",
    "plt.xlabel('Models')\n",
    "plt.ylabel('Root Mean Squared Error (Root MSE)')\n",
    "plt.title('Root Mean Squared Error (Root MSE) Comparison')\n",
    "plt.ylim(min(root_mse_values) - 0.03, max(root_mse_values) + 0.02)"
   ]
  },
  {
   "cell_type": "markdown",
   "id": "f2507d99-b359-49dd-a544-7f69384754e1",
   "metadata": {},
   "source": [
    "### Findings From Root MSE Comparison:\n",
    "* In line with the results shown in the Mean Squared Error (MSE) comparison chart, some of the observations are consistent with the given statement, while others are not.\n",
    "* Utilizing data with greater correlation led to model_a and model_c surpassing the performance of their corresponding partners, model_b and model_d.\n",
    "* Model a has the most accurate results, even though it only contains training data containing 10% of the entire dataset\n",
    "* Both datasets have similarities in their trends, however the root MSE results are closer to eachother in values- the range is significantly smaller than that of MSE.\n"
   ]
  },
  {
   "cell_type": "markdown",
   "id": "f9ee01ac",
   "metadata": {
    "id": "f9ee01ac"
   },
   "source": [
    "### Data Science Ethics\n",
    "*Please read the following examples [Click here to read the example_1.](https://www.vox.com/covid-19-coronavirus-us-response-trump/2020/5/18/21262265/georgia-covid-19-cases-declining-reopening) [Click here to read the example_2.](https://viborc.com/ethics-and-ethical-data-visualization-a-complete-guide/)\n",
    "\n",
    "*Then view the picture ![My Image](figure_portfolio2.png \"This is my image\")\n",
    "Please compose an analysis of 100-200 words that evaluates potential ethical concerns associated with the infographic, detailing the reasons behind these issues.\n"
   ]
  },
  {
   "cell_type": "markdown",
   "id": "22c269fc-73ab-441f-9339-42bf058128ba",
   "metadata": {
    "id": "44f30e9b"
   },
   "source": [
    "The infographic above shows medal counts from the Summer Olympics in 2008; Table 1 is sorted by total medals and Table 2 is sorted by total gold medals. There may be ethical concerns around these 2 datasets regarding the audiences interpretation and representation of the dataset. The sorting of the 2 tables appears inconsistent; Table 1 shows France but not South Korea, while Table 2 includes South Korea but not France. This can mislead viewers about the performance of these countries in the Olympics, and the selective misrepresentation suggests bias. Additionally, the subtle sorting shift between the two tables form total medals to gold medals creates a confusing view about which country potentially ‘won’ the Olympics. The lack of clear justification and explanation can imply a perspective that may not be neutral. It is especially important when presenting Olympic results that graphs maintain transparency, consistency and neutrality to ensure accurate and un-bias communications of information and results.\n"
   ]
  },
  {
   "cell_type": "code",
   "execution_count": null,
   "id": "0511889d",
   "metadata": {
    "id": "0511889d"
   },
   "outputs": [],
   "source": []
  }
 ],
 "metadata": {
  "colab": {
   "provenance": []
  },
  "kernelspec": {
   "display_name": "Python 3 (ipykernel)",
   "language": "python",
   "name": "python3"
  },
  "language_info": {
   "codemirror_mode": {
    "name": "ipython",
    "version": 3
   },
   "file_extension": ".py",
   "mimetype": "text/x-python",
   "name": "python",
   "nbconvert_exporter": "python",
   "pygments_lexer": "ipython3",
   "version": "3.11.7"
  }
 },
 "nbformat": 4,
 "nbformat_minor": 5
}
